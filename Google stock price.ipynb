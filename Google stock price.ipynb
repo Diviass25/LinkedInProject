{
 "cells": [
  {
   "cell_type": "code",
   "execution_count": 1,
   "metadata": {},
   "outputs": [
    {
     "name": "stdout",
     "output_type": "stream",
     "text": [
      "Collecting tensorflow\n",
      "  Using cached tensorflow-2.13.0-cp39-cp39-win_amd64.whl (1.9 kB)\n",
      "Collecting tensorflow-intel==2.13.0\n",
      "  Using cached tensorflow_intel-2.13.0-cp39-cp39-win_amd64.whl (276.5 MB)\n",
      "Requirement already satisfied: keras<2.14,>=2.13.1 in c:\\users\\redmibook\\anaconda3\\lib\\site-packages (from tensorflow-intel==2.13.0->tensorflow) (2.13.1)\n",
      "Requirement already satisfied: tensorflow-io-gcs-filesystem>=0.23.1 in c:\\users\\redmibook\\anaconda3\\lib\\site-packages (from tensorflow-intel==2.13.0->tensorflow) (0.31.0)\n",
      "Requirement already satisfied: six>=1.12.0 in c:\\users\\redmibook\\anaconda3\\lib\\site-packages (from tensorflow-intel==2.13.0->tensorflow) (1.16.0)\n",
      "Requirement already satisfied: numpy<=1.24.3,>=1.22 in c:\\users\\redmibook\\anaconda3\\lib\\site-packages (from tensorflow-intel==2.13.0->tensorflow) (1.24.3)\n",
      "Requirement already satisfied: google-pasta>=0.1.1 in c:\\users\\redmibook\\anaconda3\\lib\\site-packages (from tensorflow-intel==2.13.0->tensorflow) (0.2.0)\n",
      "Requirement already satisfied: h5py>=2.9.0 in c:\\users\\redmibook\\anaconda3\\lib\\site-packages (from tensorflow-intel==2.13.0->tensorflow) (3.7.0)\n",
      "Requirement already satisfied: termcolor>=1.1.0 in c:\\users\\redmibook\\anaconda3\\lib\\site-packages (from tensorflow-intel==2.13.0->tensorflow) (2.3.0)\n",
      "Requirement already satisfied: astunparse>=1.6.0 in c:\\users\\redmibook\\anaconda3\\lib\\site-packages (from tensorflow-intel==2.13.0->tensorflow) (1.6.3)\n",
      "Requirement already satisfied: protobuf!=4.21.0,!=4.21.1,!=4.21.2,!=4.21.3,!=4.21.4,!=4.21.5,<5.0.0dev,>=3.20.3 in c:\\users\\redmibook\\anaconda3\\lib\\site-packages (from tensorflow-intel==2.13.0->tensorflow) (4.23.4)\n",
      "Requirement already satisfied: absl-py>=1.0.0 in c:\\users\\redmibook\\anaconda3\\lib\\site-packages (from tensorflow-intel==2.13.0->tensorflow) (1.4.0)\n",
      "Requirement already satisfied: wrapt>=1.11.0 in c:\\users\\redmibook\\anaconda3\\lib\\site-packages (from tensorflow-intel==2.13.0->tensorflow) (1.14.1)\n",
      "Requirement already satisfied: packaging in c:\\users\\redmibook\\anaconda3\\lib\\site-packages (from tensorflow-intel==2.13.0->tensorflow) (21.3)\n",
      "Requirement already satisfied: flatbuffers>=23.1.21 in c:\\users\\redmibook\\anaconda3\\lib\\site-packages (from tensorflow-intel==2.13.0->tensorflow) (23.5.26)\n",
      "Requirement already satisfied: libclang>=13.0.0 in c:\\users\\redmibook\\anaconda3\\lib\\site-packages (from tensorflow-intel==2.13.0->tensorflow) (16.0.6)\n",
      "Requirement already satisfied: tensorflow-estimator<2.14,>=2.13.0 in c:\\users\\redmibook\\anaconda3\\lib\\site-packages (from tensorflow-intel==2.13.0->tensorflow) (2.13.0)\n",
      "Requirement already satisfied: setuptools in c:\\users\\redmibook\\anaconda3\\lib\\site-packages (from tensorflow-intel==2.13.0->tensorflow) (63.4.1)\n",
      "Requirement already satisfied: tensorboard<2.14,>=2.13 in c:\\users\\redmibook\\anaconda3\\lib\\site-packages (from tensorflow-intel==2.13.0->tensorflow) (2.13.0)\n",
      "Requirement already satisfied: gast<=0.4.0,>=0.2.1 in c:\\users\\redmibook\\anaconda3\\lib\\site-packages (from tensorflow-intel==2.13.0->tensorflow) (0.4.0)\n",
      "Requirement already satisfied: typing-extensions<4.6.0,>=3.6.6 in c:\\users\\redmibook\\anaconda3\\lib\\site-packages (from tensorflow-intel==2.13.0->tensorflow) (4.3.0)\n",
      "Requirement already satisfied: opt-einsum>=2.3.2 in c:\\users\\redmibook\\anaconda3\\lib\\site-packages (from tensorflow-intel==2.13.0->tensorflow) (3.3.0)\n",
      "Requirement already satisfied: grpcio<2.0,>=1.24.3 in c:\\users\\redmibook\\anaconda3\\lib\\site-packages (from tensorflow-intel==2.13.0->tensorflow) (1.56.2)\n",
      "Requirement already satisfied: wheel<1.0,>=0.23.0 in c:\\users\\redmibook\\anaconda3\\lib\\site-packages (from astunparse>=1.6.0->tensorflow-intel==2.13.0->tensorflow) (0.37.1)\n",
      "Requirement already satisfied: werkzeug>=1.0.1 in c:\\users\\redmibook\\anaconda3\\lib\\site-packages (from tensorboard<2.14,>=2.13->tensorflow-intel==2.13.0->tensorflow) (2.0.3)\n",
      "Requirement already satisfied: markdown>=2.6.8 in c:\\users\\redmibook\\anaconda3\\lib\\site-packages (from tensorboard<2.14,>=2.13->tensorflow-intel==2.13.0->tensorflow) (3.3.4)\n",
      "Requirement already satisfied: google-auth-oauthlib<1.1,>=0.5 in c:\\users\\redmibook\\anaconda3\\lib\\site-packages (from tensorboard<2.14,>=2.13->tensorflow-intel==2.13.0->tensorflow) (1.0.0)\n",
      "Requirement already satisfied: tensorboard-data-server<0.8.0,>=0.7.0 in c:\\users\\redmibook\\anaconda3\\lib\\site-packages (from tensorboard<2.14,>=2.13->tensorflow-intel==2.13.0->tensorflow) (0.7.1)\n",
      "Requirement already satisfied: requests<3,>=2.21.0 in c:\\users\\redmibook\\anaconda3\\lib\\site-packages (from tensorboard<2.14,>=2.13->tensorflow-intel==2.13.0->tensorflow) (2.28.1)\n",
      "Requirement already satisfied: google-auth<3,>=1.6.3 in c:\\users\\redmibook\\anaconda3\\lib\\site-packages (from tensorboard<2.14,>=2.13->tensorflow-intel==2.13.0->tensorflow) (2.22.0)\n",
      "Requirement already satisfied: pyparsing!=3.0.5,>=2.0.2 in c:\\users\\redmibook\\anaconda3\\lib\\site-packages (from packaging->tensorflow-intel==2.13.0->tensorflow) (3.0.9)\n",
      "Requirement already satisfied: pyasn1-modules>=0.2.1 in c:\\users\\redmibook\\anaconda3\\lib\\site-packages (from google-auth<3,>=1.6.3->tensorboard<2.14,>=2.13->tensorflow-intel==2.13.0->tensorflow) (0.2.8)\n",
      "Requirement already satisfied: rsa<5,>=3.1.4 in c:\\users\\redmibook\\anaconda3\\lib\\site-packages (from google-auth<3,>=1.6.3->tensorboard<2.14,>=2.13->tensorflow-intel==2.13.0->tensorflow) (4.9)\n",
      "Requirement already satisfied: urllib3<2.0 in c:\\users\\redmibook\\anaconda3\\lib\\site-packages (from google-auth<3,>=1.6.3->tensorboard<2.14,>=2.13->tensorflow-intel==2.13.0->tensorflow) (1.26.11)\n",
      "Requirement already satisfied: cachetools<6.0,>=2.0.0 in c:\\users\\redmibook\\anaconda3\\lib\\site-packages (from google-auth<3,>=1.6.3->tensorboard<2.14,>=2.13->tensorflow-intel==2.13.0->tensorflow) (5.3.1)\n",
      "Requirement already satisfied: requests-oauthlib>=0.7.0 in c:\\users\\redmibook\\anaconda3\\lib\\site-packages (from google-auth-oauthlib<1.1,>=0.5->tensorboard<2.14,>=2.13->tensorflow-intel==2.13.0->tensorflow) (1.3.1)\n",
      "Requirement already satisfied: charset-normalizer<3,>=2 in c:\\users\\redmibook\\anaconda3\\lib\\site-packages (from requests<3,>=2.21.0->tensorboard<2.14,>=2.13->tensorflow-intel==2.13.0->tensorflow) (2.0.4)\n",
      "Requirement already satisfied: idna<4,>=2.5 in c:\\users\\redmibook\\anaconda3\\lib\\site-packages (from requests<3,>=2.21.0->tensorboard<2.14,>=2.13->tensorflow-intel==2.13.0->tensorflow) (3.3)\n",
      "Requirement already satisfied: certifi>=2017.4.17 in c:\\users\\redmibook\\anaconda3\\lib\\site-packages (from requests<3,>=2.21.0->tensorboard<2.14,>=2.13->tensorflow-intel==2.13.0->tensorflow) (2022.9.14)\n",
      "Requirement already satisfied: pyasn1<0.5.0,>=0.4.6 in c:\\users\\redmibook\\anaconda3\\lib\\site-packages (from pyasn1-modules>=0.2.1->google-auth<3,>=1.6.3->tensorboard<2.14,>=2.13->tensorflow-intel==2.13.0->tensorflow) (0.4.8)\n",
      "Requirement already satisfied: oauthlib>=3.0.0 in c:\\users\\redmibook\\anaconda3\\lib\\site-packages (from requests-oauthlib>=0.7.0->google-auth-oauthlib<1.1,>=0.5->tensorboard<2.14,>=2.13->tensorflow-intel==2.13.0->tensorflow) (3.2.2)\n",
      "Installing collected packages: tensorflow-intel, tensorflow\n",
      "Successfully installed tensorflow-2.13.0 tensorflow-intel-2.13.0\n",
      "Note: you may need to restart the kernel to use updated packages.\n"
     ]
    }
   ],
   "source": [
    "pip install tensorflow"
   ]
  },
  {
   "cell_type": "code",
   "execution_count": 2,
   "metadata": {},
   "outputs": [],
   "source": [
    "import numpy as np \n",
    "import pandas as pd \n",
    "import matplotlib.pyplot as plt \n",
    "from sklearn.preprocessing import MinMaxScaler\n",
    "from keras.models import Sequential\n",
    "from keras.layers import Dense,LSTM,Dropout"
   ]
  },
  {
   "cell_type": "code",
   "execution_count": 4,
   "metadata": {},
   "outputs": [
    {
     "data": {
      "text/html": [
       "<div>\n",
       "<style scoped>\n",
       "    .dataframe tbody tr th:only-of-type {\n",
       "        vertical-align: middle;\n",
       "    }\n",
       "\n",
       "    .dataframe tbody tr th {\n",
       "        vertical-align: top;\n",
       "    }\n",
       "\n",
       "    .dataframe thead th {\n",
       "        text-align: right;\n",
       "    }\n",
       "</style>\n",
       "<table border=\"1\" class=\"dataframe\">\n",
       "  <thead>\n",
       "    <tr style=\"text-align: right;\">\n",
       "      <th></th>\n",
       "      <th>Date</th>\n",
       "      <th>Open</th>\n",
       "      <th>High</th>\n",
       "      <th>Low</th>\n",
       "      <th>Close</th>\n",
       "      <th>Volume</th>\n",
       "    </tr>\n",
       "  </thead>\n",
       "  <tbody>\n",
       "    <tr>\n",
       "      <th>0</th>\n",
       "      <td>1/3/2012</td>\n",
       "      <td>325.25</td>\n",
       "      <td>332.83</td>\n",
       "      <td>324.97</td>\n",
       "      <td>663.59</td>\n",
       "      <td>7,380,500</td>\n",
       "    </tr>\n",
       "    <tr>\n",
       "      <th>1</th>\n",
       "      <td>1/4/2012</td>\n",
       "      <td>331.27</td>\n",
       "      <td>333.87</td>\n",
       "      <td>329.08</td>\n",
       "      <td>666.45</td>\n",
       "      <td>5,749,400</td>\n",
       "    </tr>\n",
       "    <tr>\n",
       "      <th>2</th>\n",
       "      <td>1/5/2012</td>\n",
       "      <td>329.83</td>\n",
       "      <td>330.75</td>\n",
       "      <td>326.89</td>\n",
       "      <td>657.21</td>\n",
       "      <td>6,590,300</td>\n",
       "    </tr>\n",
       "    <tr>\n",
       "      <th>3</th>\n",
       "      <td>1/6/2012</td>\n",
       "      <td>328.34</td>\n",
       "      <td>328.77</td>\n",
       "      <td>323.68</td>\n",
       "      <td>648.24</td>\n",
       "      <td>5,405,900</td>\n",
       "    </tr>\n",
       "    <tr>\n",
       "      <th>4</th>\n",
       "      <td>1/9/2012</td>\n",
       "      <td>322.04</td>\n",
       "      <td>322.29</td>\n",
       "      <td>309.46</td>\n",
       "      <td>620.76</td>\n",
       "      <td>11,688,800</td>\n",
       "    </tr>\n",
       "  </tbody>\n",
       "</table>\n",
       "</div>"
      ],
      "text/plain": [
       "       Date    Open    High     Low   Close      Volume\n",
       "0  1/3/2012  325.25  332.83  324.97  663.59   7,380,500\n",
       "1  1/4/2012  331.27  333.87  329.08  666.45   5,749,400\n",
       "2  1/5/2012  329.83  330.75  326.89  657.21   6,590,300\n",
       "3  1/6/2012  328.34  328.77  323.68  648.24   5,405,900\n",
       "4  1/9/2012  322.04  322.29  309.46  620.76  11,688,800"
      ]
     },
     "execution_count": 4,
     "metadata": {},
     "output_type": "execute_result"
    }
   ],
   "source": [
    "data = pd.read_csv('C:/Users/Redmibook/Downloads/datasetsandcodefilesstockmarketprediction/Google_train_data.csv')\n",
    "data.head()"
   ]
  },
  {
   "cell_type": "code",
   "execution_count": 5,
   "metadata": {},
   "outputs": [
    {
     "name": "stdout",
     "output_type": "stream",
     "text": [
      "<class 'pandas.core.frame.DataFrame'>\n",
      "RangeIndex: 1258 entries, 0 to 1257\n",
      "Data columns (total 6 columns):\n",
      " #   Column  Non-Null Count  Dtype  \n",
      "---  ------  --------------  -----  \n",
      " 0   Date    1258 non-null   object \n",
      " 1   Open    1258 non-null   float64\n",
      " 2   High    1258 non-null   float64\n",
      " 3   Low     1258 non-null   float64\n",
      " 4   Close   1258 non-null   object \n",
      " 5   Volume  1258 non-null   object \n",
      "dtypes: float64(3), object(3)\n",
      "memory usage: 59.1+ KB\n"
     ]
    }
   ],
   "source": [
    "data.info()"
   ]
  },
  {
   "cell_type": "code",
   "execution_count": 6,
   "metadata": {},
   "outputs": [],
   "source": [
    "data[\"Close\"]=pd.to_numeric(data.Close,errors='coerce')\n",
    "data = data.dropna()\n",
    "trainData = data.iloc[:,4:5].values"
   ]
  },
  {
   "cell_type": "code",
   "execution_count": 7,
   "metadata": {},
   "outputs": [
    {
     "name": "stdout",
     "output_type": "stream",
     "text": [
      "<class 'pandas.core.frame.DataFrame'>\n",
      "Int64Index: 1149 entries, 0 to 1257\n",
      "Data columns (total 6 columns):\n",
      " #   Column  Non-Null Count  Dtype  \n",
      "---  ------  --------------  -----  \n",
      " 0   Date    1149 non-null   object \n",
      " 1   Open    1149 non-null   float64\n",
      " 2   High    1149 non-null   float64\n",
      " 3   Low     1149 non-null   float64\n",
      " 4   Close   1149 non-null   float64\n",
      " 5   Volume  1149 non-null   object \n",
      "dtypes: float64(4), object(2)\n",
      "memory usage: 62.8+ KB\n"
     ]
    }
   ],
   "source": [
    "data.info()"
   ]
  },
  {
   "cell_type": "code",
   "execution_count": 8,
   "metadata": {},
   "outputs": [
    {
     "data": {
      "text/plain": [
       "(1149, 1)"
      ]
     },
     "execution_count": 8,
     "metadata": {},
     "output_type": "execute_result"
    }
   ],
   "source": [
    "sc = MinMaxScaler(feature_range=(0,1))\n",
    "trainData = sc.fit_transform(trainData)\n",
    "trainData.shape"
   ]
  },
  {
   "cell_type": "code",
   "execution_count": 11,
   "metadata": {},
   "outputs": [],
   "source": [
    "X_train = []\n",
    "y_train = []\n",
    "\n",
    "for i in range (60,1149): #60 : timestep // 1149 : length of the data\n",
    "    X_train.append(trainData[i-60:i,0]) \n",
    "    y_train.append(trainData[i,0])\n",
    "\n",
    "X_train,y_train = np.array(X_train),np.array(y_train)"
   ]
  },
  {
   "cell_type": "code",
   "execution_count": 12,
   "metadata": {},
   "outputs": [
    {
     "data": {
      "text/plain": [
       "(1089, 60, 1)"
      ]
     },
     "execution_count": 12,
     "metadata": {},
     "output_type": "execute_result"
    }
   ],
   "source": [
    "X_train = np.reshape(X_train,(X_train.shape[0],X_train.shape[1],1)) #adding the batch_size axis\n",
    "X_train.shape"
   ]
  },
  {
   "cell_type": "code",
   "execution_count": 13,
   "metadata": {},
   "outputs": [],
   "source": [
    "model = Sequential()\n",
    "\n",
    "model.add(LSTM(units=100, return_sequences = True, input_shape =(X_train.shape[1],1)))\n",
    "model.add(Dropout(0.2))\n",
    "\n",
    "model.add(LSTM(units=100, return_sequences = True))\n",
    "model.add(Dropout(0.2))\n",
    "\n",
    "model.add(LSTM(units=100, return_sequences = True))\n",
    "model.add(Dropout(0.2))\n",
    "\n",
    "model.add(LSTM(units=100, return_sequences = False))\n",
    "model.add(Dropout(0.2))\n",
    "\n",
    "model.add(Dense(units =1))\n",
    "model.compile(optimizer='adam',loss=\"mean_squared_error\")"
   ]
  },
  {
   "cell_type": "code",
   "execution_count": 14,
   "metadata": {},
   "outputs": [
    {
     "name": "stdout",
     "output_type": "stream",
     "text": [
      "Epoch 1/20\n",
      "35/35 - 25s - loss: 0.0379 - 25s/epoch - 724ms/step\n",
      "Epoch 2/20\n",
      "35/35 - 6s - loss: 0.0109 - 6s/epoch - 176ms/step\n",
      "Epoch 3/20\n",
      "35/35 - 8s - loss: 0.0093 - 8s/epoch - 229ms/step\n",
      "Epoch 4/20\n",
      "35/35 - 6s - loss: 0.0085 - 6s/epoch - 158ms/step\n",
      "Epoch 5/20\n",
      "35/35 - 6s - loss: 0.0080 - 6s/epoch - 166ms/step\n",
      "Epoch 6/20\n",
      "35/35 - 7s - loss: 0.0113 - 7s/epoch - 200ms/step\n",
      "Epoch 7/20\n",
      "35/35 - 6s - loss: 0.0078 - 6s/epoch - 179ms/step\n",
      "Epoch 8/20\n",
      "35/35 - 7s - loss: 0.0060 - 7s/epoch - 198ms/step\n",
      "Epoch 9/20\n",
      "35/35 - 6s - loss: 0.0061 - 6s/epoch - 170ms/step\n",
      "Epoch 10/20\n",
      "35/35 - 7s - loss: 0.0069 - 7s/epoch - 206ms/step\n",
      "Epoch 11/20\n",
      "35/35 - 8s - loss: 0.0058 - 8s/epoch - 218ms/step\n",
      "Epoch 12/20\n",
      "35/35 - 7s - loss: 0.0063 - 7s/epoch - 197ms/step\n",
      "Epoch 13/20\n",
      "35/35 - 8s - loss: 0.0068 - 8s/epoch - 233ms/step\n",
      "Epoch 14/20\n",
      "35/35 - 6s - loss: 0.0059 - 6s/epoch - 184ms/step\n",
      "Epoch 15/20\n",
      "35/35 - 9s - loss: 0.0075 - 9s/epoch - 247ms/step\n",
      "Epoch 16/20\n",
      "35/35 - 6s - loss: 0.0055 - 6s/epoch - 182ms/step\n",
      "Epoch 17/20\n",
      "35/35 - 9s - loss: 0.0050 - 9s/epoch - 244ms/step\n",
      "Epoch 18/20\n",
      "35/35 - 6s - loss: 0.0047 - 6s/epoch - 179ms/step\n",
      "Epoch 19/20\n",
      "35/35 - 9s - loss: 0.0054 - 9s/epoch - 246ms/step\n",
      "Epoch 20/20\n",
      "35/35 - 6s - loss: 0.0049 - 6s/epoch - 185ms/step\n"
     ]
    }
   ],
   "source": [
    "hist = model.fit(X_train, y_train, epochs = 20, batch_size = 32, verbose=2)"
   ]
  },
  {
   "cell_type": "code",
   "execution_count": 15,
   "metadata": {},
   "outputs": [
    {
     "data": {
      "image/png": "[encoded data removed]",
      "text/plain": [
       "<Figure size 640x480 with 1 Axes>"
      ]
     },
     "metadata": {},
     "output_type": "display_data"
    }
   ],
   "source": [
    "plt.plot(hist.history['loss'])\n",
    "plt.title('Training model loss')\n",
    "plt.ylabel('loss')\n",
    "plt.xlabel('epoch')\n",
    "plt.legend(['train'], loc='upper left')\n",
    "plt.show()"
   ]
  },
  {
   "cell_type": "code",
   "execution_count": 17,
   "metadata": {},
   "outputs": [
    {
     "data": {
      "text/plain": [
       "(192, 60, 1)"
      ]
     },
     "execution_count": 17,
     "metadata": {},
     "output_type": "execute_result"
    }
   ],
   "source": [
    "testData = pd.read_csv('C:/Users/Redmibook/Downloads/datasetsandcodefilesstockmarketprediction/Google_test_data.csv')\n",
    "testData[\"Close\"]=pd.to_numeric(testData.Close,errors='coerce')\n",
    "testData = testData.dropna()\n",
    "testData = testData.iloc[:,4:5]\n",
    "y_test = testData.iloc[60:,0:].values \n",
    "#input array for the model\n",
    "inputClosing = testData.iloc[:,0:].values \n",
    "inputClosing_scaled = sc.transform(inputClosing)\n",
    "inputClosing_scaled.shape\n",
    "X_test = []\n",
    "length = len(testData)\n",
    "timestep = 60\n",
    "for i in range(timestep,length):  \n",
    "    X_test.append(inputClosing_scaled[i-timestep:i,0])\n",
    "X_test = np.array(X_test)\n",
    "X_test = np.reshape(X_test,(X_test.shape[0],X_test.shape[1],1))\n",
    "X_test.shape"
   ]
  },
  {
   "cell_type": "code",
   "execution_count": 18,
   "metadata": {},
   "outputs": [
    {
     "name": "stdout",
     "output_type": "stream",
     "text": [
      "6/6 [==============================] - 3s 82ms/step\n"
     ]
    },
    {
     "data": {
      "text/plain": [
       "array([[1.2239991],\n",
       "       [1.2268945],\n",
       "       [1.2384678],\n",
       "       [1.2563384],\n",
       "       [1.2722763],\n",
       "       [1.2760888],\n",
       "       [1.2668438],\n",
       "       [1.2509123],\n",
       "       [1.2387172],\n",
       "       [1.2333779],\n",
       "       [1.2252876],\n",
       "       [1.213348 ],\n",
       "       [1.2021958],\n",
       "       [1.1917515],\n",
       "       [1.1879463],\n",
       "       [1.190821 ],\n",
       "       [1.2070862],\n",
       "       [1.234733 ],\n",
       "       [1.2682519],\n",
       "       [1.3031577],\n",
       "       [1.3215014],\n",
       "       [1.3236617],\n",
       "       [1.307633 ],\n",
       "       [1.2802039],\n",
       "       [1.2522463],\n",
       "       [1.2327598],\n",
       "       [1.2237182],\n",
       "       [1.2191126],\n",
       "       [1.2102225],\n",
       "       [1.1986765],\n",
       "       [1.1862615],\n",
       "       [1.1724547],\n",
       "       [1.1526674],\n",
       "       [1.1281413],\n",
       "       [1.1160287],\n",
       "       [1.1222312],\n",
       "       [1.1419475],\n",
       "       [1.1671835],\n",
       "       [1.1932474],\n",
       "       [1.2097789],\n",
       "       [1.2257303],\n",
       "       [1.2432812],\n",
       "       [1.2625276],\n",
       "       [1.2804347],\n",
       "       [1.293203 ],\n",
       "       [1.2965282],\n",
       "       [1.28833  ],\n",
       "       [1.278976 ],\n",
       "       [1.274235 ],\n",
       "       [1.2768556],\n",
       "       [1.286894 ],\n",
       "       [1.2947463],\n",
       "       [1.2976203],\n",
       "       [1.2954801],\n",
       "       [1.2938789],\n",
       "       [1.2901846],\n",
       "       [1.2820598],\n",
       "       [1.2769778],\n",
       "       [1.2834765],\n",
       "       [1.2993746],\n",
       "       [1.324155 ],\n",
       "       [1.3554636],\n",
       "       [1.3800619],\n",
       "       [1.3886586],\n",
       "       [1.3812995],\n",
       "       [1.3637182],\n",
       "       [1.3486187],\n",
       "       [1.3406466],\n",
       "       [1.3399762],\n",
       "       [1.3423859],\n",
       "       [1.3462037],\n",
       "       [1.3490285],\n",
       "       [1.3462461],\n",
       "       [1.3413496],\n",
       "       [1.3366674],\n",
       "       [1.3347356],\n",
       "       [1.3360025],\n",
       "       [1.340381 ],\n",
       "       [1.3513076],\n",
       "       [1.3685666],\n",
       "       [1.3915981],\n",
       "       [1.4149454],\n",
       "       [1.4304931],\n",
       "       [1.4358567],\n",
       "       [1.4407123],\n",
       "       [1.4520059],\n",
       "       [1.4684185],\n",
       "       [1.4836082],\n",
       "       [1.4934391],\n",
       "       [1.4968508],\n",
       "       [1.4984673],\n",
       "       [1.5060239],\n",
       "       [1.5207723],\n",
       "       [1.5321828],\n",
       "       [1.5330608],\n",
       "       [1.5222048],\n",
       "       [1.5013238],\n",
       "       [1.4752585],\n",
       "       [1.4510969],\n",
       "       [1.4381872],\n",
       "       [1.4389852],\n",
       "       [1.4512695],\n",
       "       [1.4716474],\n",
       "       [1.4924275],\n",
       "       [1.5079625],\n",
       "       [1.5149295],\n",
       "       [1.5155629],\n",
       "       [1.5131544],\n",
       "       [1.5131108],\n",
       "       [1.5169928],\n",
       "       [1.5248147],\n",
       "       [1.5364777],\n",
       "       [1.5491928],\n",
       "       [1.5631788],\n",
       "       [1.5802281],\n",
       "       [1.595485 ],\n",
       "       [1.6077315],\n",
       "       [1.6180333],\n",
       "       [1.6296836],\n",
       "       [1.6161467],\n",
       "       [1.5740415],\n",
       "       [1.5154263],\n",
       "       [1.4614452],\n",
       "       [1.4240413],\n",
       "       [1.4023246],\n",
       "       [1.391836 ],\n",
       "       [1.388392 ],\n",
       "       [1.3900528],\n",
       "       [1.387581 ],\n",
       "       [1.37737  ],\n",
       "       [1.372777 ],\n",
       "       [1.3814219],\n",
       "       [1.3973093],\n",
       "       [1.4088489],\n",
       "       [1.4149755],\n",
       "       [1.4172783],\n",
       "       [1.4149544],\n",
       "       [1.4077057],\n",
       "       [1.3978875],\n",
       "       [1.384004 ],\n",
       "       [1.3685626],\n",
       "       [1.3512777],\n",
       "       [1.3190709],\n",
       "       [1.2791797],\n",
       "       [1.2385222],\n",
       "       [1.204449 ],\n",
       "       [1.1858577],\n",
       "       [1.1868804],\n",
       "       [1.2034318],\n",
       "       [1.2278496],\n",
       "       [1.2556281],\n",
       "       [1.2812532],\n",
       "       [1.302757 ],\n",
       "       [1.3212767],\n",
       "       [1.3360466],\n",
       "       [1.3482715],\n",
       "       [1.3600467],\n",
       "       [1.3692693],\n",
       "       [1.3678929],\n",
       "       [1.3546041],\n",
       "       [1.3329529],\n",
       "       [1.3098198],\n",
       "       [1.2939619],\n",
       "       [1.2907199],\n",
       "       [1.3007861],\n",
       "       [1.3216366],\n",
       "       [1.3435291],\n",
       "       [1.3623335],\n",
       "       [1.3794476],\n",
       "       [1.3950999],\n",
       "       [1.4081647],\n",
       "       [1.4186608],\n",
       "       [1.4267523],\n",
       "       [1.4303443],\n",
       "       [1.4293749],\n",
       "       [1.4212319],\n",
       "       [1.4097219],\n",
       "       [1.4001423],\n",
       "       [1.392546 ],\n",
       "       [1.3855778],\n",
       "       [1.4070705],\n",
       "       [1.4536358],\n",
       "       [1.5068566],\n",
       "       [1.5495867],\n",
       "       [1.5727705],\n",
       "       [1.5735842],\n",
       "       [1.5478712],\n",
       "       [1.509765 ],\n",
       "       [1.4723463],\n",
       "       [1.4505478],\n",
       "       [1.4422973],\n",
       "       [1.4400283]], dtype=float32)"
      ]
     },
     "execution_count": 18,
     "metadata": {},
     "output_type": "execute_result"
    }
   ],
   "source": [
    "y_pred = model.predict(X_test)\n",
    "y_pred"
   ]
  },
  {
   "cell_type": "code",
   "execution_count": 19,
   "metadata": {},
   "outputs": [],
   "source": [
    "predicted_price = sc.inverse_transform(y_pred)"
   ]
  },
  {
   "cell_type": "code",
   "execution_count": 20,
   "metadata": {},
   "outputs": [
    {
     "data": {
      "image/png": "[encoded data removed]",
      "text/plain": [
       "<Figure size 640x480 with 1 Axes>"
      ]
     },
     "metadata": {},
     "output_type": "display_data"
    }
   ],
   "source": [
    "plt.plot(y_test, color = 'red', label = 'Actual Stock Price')\n",
    "plt.plot(predicted_price, color = 'green', label = 'Predicted Stock Price')\n",
    "plt.title('Google stock price prediction')\n",
    "plt.xlabel('Time')\n",
    "plt.ylabel('Stock Price')\n",
    "plt.legend()\n",
    "plt.show()"
   ]
  },
  {
   "cell_type": "code",
   "execution_count": null,
   "metadata": {},
   "outputs": [],
   "source": []
  }
 ],
 "metadata": {
  "kernelspec": {
   "display_name": "Python 3 (ipykernel)",
   "language": "python",
   "name": "python3"
  },
  "language_info": {
   "codemirror_mode": {
    "name": "ipython",
    "version": 3
   },
   "file_extension": ".py",
   "mimetype": "text/x-python",
   "name": "python",
   "nbconvert_exporter": "python",
   "pygments_lexer": "ipython3",
   "version": "3.9.13"
  }
 },
 "nbformat": 4,
 "nbformat_minor": 4
}
