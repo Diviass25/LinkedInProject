{
 "cells": [
  {
   "cell_type": "markdown",
   "id": "b464c2dd",
   "metadata": {},
   "source": [
    "# BMI Calculator"
   ]
  },
  {
   "cell_type": "markdown",
   "id": "6dfc5b24",
   "metadata": {},
   "source": [
    "Calculate your BMI"
   ]
  },
  {
   "cell_type": "markdown",
   "id": "95c811ec",
   "metadata": {},
   "source": [
    "Body Mass Index (BMI) is a person’s weight in kilograms (or pounds) divided by the square of height in meters (or feet). A high BMI can indicate high body fatness. BMI screens for weight categories that may lead to health problems, but it does not diagnose the body fatness or health of an individual. (source: cdc.gov)"
   ]
  },
  {
   "cell_type": "code",
   "execution_count": 17,
   "id": "94ca6c8f",
   "metadata": {},
   "outputs": [
    {
     "name": "stdout",
     "output_type": "stream",
     "text": [
      "Enter your name: dip\n",
      "Enter your weight in kg: 80\n",
      "Enter your height in m: 1.57\n",
      "32.45567771512029\n",
      "dip, you are obese. You have high health risk.\n"
     ]
    }
   ],
   "source": [
    "name = input(\"Enter your name: \")\n",
    "weight = int(input(\"Enter your weight in kg: \"))\n",
    "height = float(input(\"Enter your height in m: \"))\n",
    "BMI = weight / (height * height)\n",
    "print(BMI)\n",
    "if BMI>0:\n",
    "    if(BMI<18.5):\n",
    "        print(name +\", you are underweight. You have minimal health risk.\")\n",
    "    elif(BMI<=24.9):\n",
    "        print(name +\", you are normal weight. You have minimal health risk.\")\n",
    "    elif(BMI<=29.9):\n",
    "        print(name +\", you are overweight. You have increased health risk.\")\n",
    "    elif(BMI<=34.9):\n",
    "        print(name +\", you are obese. You have high health risk.\")\n",
    "    elif(BMI<=39.9):\n",
    "        print(name +\", you are severely obese. You have very high health risk.\")\n",
    "    else:\n",
    "        print(name +\", You are morbidly obese. You have extremely high health risk.\")"
   ]
  },
  {
   "cell_type": "code",
   "execution_count": null,
   "id": "af8aacb8",
   "metadata": {},
   "outputs": [],
   "source": []
  },
  {
   "cell_type": "code",
   "execution_count": null,
   "id": "1e60d849",
   "metadata": {},
   "outputs": [],
   "source": []
  },
  {
   "cell_type": "code",
   "execution_count": null,
   "id": "434bd9a1",
   "metadata": {},
   "outputs": [],
   "source": []
  },
  {
   "cell_type": "code",
   "execution_count": null,
   "id": "0efbfa04",
   "metadata": {},
   "outputs": [],
   "source": []
  },
  {
   "cell_type": "code",
   "execution_count": null,
   "id": "e80bd898",
   "metadata": {},
   "outputs": [],
   "source": []
  },
  {
   "cell_type": "code",
   "execution_count": null,
   "id": "2a8cb54f",
   "metadata": {},
   "outputs": [],
   "source": []
  },
  {
   "cell_type": "code",
   "execution_count": null,
   "id": "fe0bacab",
   "metadata": {},
   "outputs": [],
   "source": []
  }
 ],
 "metadata": {
  "kernelspec": {
   "display_name": "Python 3 (ipykernel)",
   "language": "python",
   "name": "python3"
  },
  "language_info": {
   "codemirror_mode": {
    "name": "ipython",
    "version": 3
   },
   "file_extension": ".py",
   "mimetype": "text/x-python",
   "name": "python",
   "nbconvert_exporter": "python",
   "pygments_lexer": "ipython3",
   "version": "3.9.13"
  }
 },
 "nbformat": 4,
 "nbformat_minor": 5
}
