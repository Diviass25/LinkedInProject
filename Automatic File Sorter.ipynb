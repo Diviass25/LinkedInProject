{
 "cells": [
  {
   "cell_type": "markdown",
   "id": "f098926d",
   "metadata": {},
   "source": [
    "# Automatic File Sorter in File Explorer"
   ]
  },
  {
   "cell_type": "code",
   "execution_count": 14,
   "id": "77825d44",
   "metadata": {},
   "outputs": [],
   "source": [
    "import os, shutil"
   ]
  },
  {
   "cell_type": "code",
   "execution_count": 15,
   "id": "c4c2a6c2",
   "metadata": {},
   "outputs": [],
   "source": [
    "#folder address\n",
    "path = r\"C:/Users/Redmibook/Downloads/File Sorter/\""
   ]
  },
  {
   "cell_type": "code",
   "execution_count": 16,
   "id": "0bc8fa51",
   "metadata": {},
   "outputs": [],
   "source": [
    "#showing all files name\n",
    "file_name = os.listdir(path)"
   ]
  },
  {
   "cell_type": "code",
   "execution_count": 17,
   "id": "a75eb21a",
   "metadata": {},
   "outputs": [
    {
     "name": "stdout",
     "output_type": "stream",
     "text": [
      "C:/Users/Redmibook/Downloads/File Sorter/jpeg files\n",
      "C:/Users/Redmibook/Downloads/File Sorter/jpg files\n",
      "C:/Users/Redmibook/Downloads/File Sorter/png files\n"
     ]
    }
   ],
   "source": [
    "#creating 3 files\n",
    "folder_names = ['jpeg files', 'jpg files','png files']\n",
    "\n",
    "for loop in range(0,3):\n",
    "    if not os.path.exists(path + folder_names[loop]):\n",
    "        print(path + folder_names[loop])\n",
    "        os.makedirs(path + folder_names[loop])\n",
    "\n",
    "for file in file_name:\n",
    "    #moving jpeg file type to jpeg files folder\n",
    "    if \".jpeg\" in file and not os.path.exists(path + \"jpeg files/\" + file):\n",
    "        shutil.move(path + file, path + \"jpeg files/\" + file)\n",
    "    #moving jpg file type to jpg files folder\n",
    "    elif \".jpg\" in file and not os.path.exists(path + \"jpg files/\" + file):\n",
    "        shutil.move(path + file, path + \"jpg files/\" + file)\n",
    "    #moving png file type to png files folder\n",
    "    elif \".png\" in file and not os.path.exists(path + \"png files/\" + file):\n",
    "        shutil.move(path + file, path + \"png files/\" + file)"
   ]
  },
  {
   "cell_type": "code",
   "execution_count": null,
   "id": "e6484fa9",
   "metadata": {},
   "outputs": [],
   "source": []
  }
 ],
 "metadata": {
  "kernelspec": {
   "display_name": "Python 3 (ipykernel)",
   "language": "python",
   "name": "python3"
  },
  "language_info": {
   "codemirror_mode": {
    "name": "ipython",
    "version": 3
   },
   "file_extension": ".py",
   "mimetype": "text/x-python",
   "name": "python",
   "nbconvert_exporter": "python",
   "pygments_lexer": "ipython3",
   "version": "3.9.13"
  }
 },
 "nbformat": 4,
 "nbformat_minor": 5
}
