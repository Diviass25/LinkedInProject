{
 "cells": [
  {
   "cell_type": "code",
   "execution_count": 24,
   "metadata": {
    "executionInfo": {
     "elapsed": 29,
     "status": "ok",
     "timestamp": 1685517572775,
     "user": {
      "displayName": "Khadijah FSM UNDIP",
      "userId": "00089257176221927728"
     },
     "user_tz": -420
    },
    "id": "FhRcNoBBART7"
   },
   "outputs": [],
   "source": [
    "import numpy as np"
   ]
  },
  {
   "cell_type": "code",
   "execution_count": 25,
   "metadata": {
    "executionInfo": {
     "elapsed": 23,
     "status": "ok",
     "timestamp": 1685517572777,
     "user": {
      "displayName": "Khadijah FSM UNDIP",
      "userId": "00089257176221927728"
     },
     "user_tz": -420
    },
    "id": "nixF_UqvAc97"
   },
   "outputs": [],
   "source": [
    "class Perceptron(object):\n",
    "    \"\"\"Implements a perceptron network\"\"\"\n",
    "    def __init__(self, input_size, lr=0.2, epochs=100):\n",
    "        self.W = np.zeros(input_size+1)\n",
    "        self.epochs = epochs # epoch\n",
    "        self.lr = lr # learning rate\n",
    "    \n",
    "    def activation_fn(self, z):\n",
    "        return 1 if z >= 0 else -1\n",
    " \n",
    "    def predict(self, x):\n",
    "        z = np.dot(self.W, x)\n",
    "        a = self.activation_fn(z)\n",
    "        return a\n",
    "    \n",
    "    def net_acc(self, X, t):\n",
    "        acc = 0\n",
    "        for i in range(t.shape[0]):\n",
    "            x = np.insert(X[i], 0, 1)\n",
    "            if self.predict(x) == t[i]:\n",
    "                acc = acc + 1\n",
    "        return (acc / t.shape[0]) * 100  # calculate accuracy in percentage\n",
    " \n",
    "    def fit(self, X, t):\n",
    "        epoch = 0\n",
    "        while self.net_acc(X, t) < 100.0 and epoch < self.epochs:\n",
    "            for i in range(t.shape[0]):\n",
    "                x = np.insert(X[i], 0, 1) \n",
    "                y = self.predict(x)\n",
    "                self.W = self.W + self.lr * (t[i] - y) * x\n",
    "            epoch += 1\n",
    "        print(\"Epoch =\", epoch, \"Accuracy =\", self.net_acc(X, t), \"%\")\n",
    "        return self.W"
   ]
  },
  {
   "cell_type": "code",
   "execution_count": 26,
   "metadata": {
    "colab": {
     "base_uri": "https://localhost:8080/"
    },
    "executionInfo": {
     "elapsed": 309,
     "status": "ok",
     "timestamp": 1685504444146,
     "user": {
      "displayName": "Khadijah FSM UNDIP",
      "userId": "00089257176221927728"
     },
     "user_tz": -420
    },
    "id": "ka7dA3R-DF_Z",
    "outputId": "8e70762e-0f24-4c12-f69a-54cb7ac39ed2"
   },
   "outputs": [
    {
     "name": "stdout",
     "output_type": "stream",
     "text": [
      "(8, 3)\n",
      "(8,)\n"
     ]
    }
   ],
   "source": [
    "X = np.array([[1, 1, 1], \n",
    "              [1, 1, -1], \n",
    "              [1, -1, 1],\n",
    "              [1, -1, -1],\n",
    "              [-1, 1, 1],\n",
    "              [-1, 1, -1],\n",
    "              [-1, -1, 1],\n",
    "              [-1, -1, -1]])\n",
    "t = np.array([1, 1, 1, 1, 1, 1, 1, -1])\n",
    " \n",
    "print(X.shape)\n",
    "print(t.shape)"
   ]
  },
  {
   "cell_type": "code",
   "execution_count": 27,
   "metadata": {
    "colab": {
     "base_uri": "https://localhost:8080/"
    },
    "executionInfo": {
     "elapsed": 293,
     "status": "ok",
     "timestamp": 1685504479071,
     "user": {
      "displayName": "Khadijah FSM UNDIP",
      "userId": "00089257176221927728"
     },
     "user_tz": -420
    },
    "id": "_vfH5lSWEUaz",
    "outputId": "e7ae8556-5110-4937-ccbc-1275c282d5f7"
   },
   "outputs": [
    {
     "name": "stdout",
     "output_type": "stream",
     "text": [
      "Epoch = 2 Accuracy = 100.0 %\n",
      "Trained Weights: [0.4 0.4 0.4 0.4]\n"
     ]
    }
   ],
   "source": [
    "perceptron = Perceptron(input_size=3, lr=0.2, epochs=100)\n",
    "trained_weights = perceptron.fit(X, t)\n",
    "\n",
    "print(\"Trained Weights:\", trained_weights)"
   ]
  },
  {
   "cell_type": "code",
   "execution_count": null,
   "metadata": {},
   "outputs": [],
   "source": []
  }
 ],
 "metadata": {
  "colab": {
   "authorship_tag": "ABX9TyNgcbZaONW7ALa++yfT7EQi",
   "provenance": []
  },
  "kernelspec": {
   "display_name": "Python 3 (ipykernel)",
   "language": "python",
   "name": "python3"
  },
  "language_info": {
   "codemirror_mode": {
    "name": "ipython",
    "version": 3
   },
   "file_extension": ".py",
   "mimetype": "text/x-python",
   "name": "python",
   "nbconvert_exporter": "python",
   "pygments_lexer": "ipython3",
   "version": "3.9.13"
  }
 },
 "nbformat": 4,
 "nbformat_minor": 1
}
